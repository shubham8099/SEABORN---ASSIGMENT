{
 "cells": [
  {
   "cell_type": "code",
   "execution_count": 1,
   "id": "9c87421c-45fc-4790-8adc-4716f8c969ef",
   "metadata": {},
   "outputs": [],
   "source": [
    "# Jai maa Saraswati"
   ]
  },
  {
   "cell_type": "code",
   "execution_count": 2,
   "id": "788f29ab-b077-4fb7-8482-fd748b2c33d2",
   "metadata": {},
   "outputs": [],
   "source": [
    "import seaborn as sns"
   ]
  },
  {
   "cell_type": "markdown",
   "id": "a5e8f184-a482-46d7-8fa4-53f53009803b",
   "metadata": {},
   "source": [
    "Que 1: Name any five plots that we can plot using the Seaborn library. Also, state the uses of each plot."
   ]
  },
  {
   "cell_type": "markdown",
   "id": "eb86bb17-1d97-411d-9b6a-d34ec22f741a",
   "metadata": {},
   "source": [
    "ANSWER ^_^\n",
    "\n",
    "* Scatter Plot(scatterplot):- \n",
    "=> use : Display the Relationship between the two numerical vaiables.\n",
    "\n",
    "* Line Plot(lineplot) :-\n",
    "=> use : Visualize the trend of numerical variables over a Continuous interval \n",
    "\n",
    "* Bar Plot(barplot) :-\n",
    "=> use : Compare the values of different categories & Groups \n",
    "\n",
    "* Histrogram(histplot) :-\n",
    "=> use : Display the distribution of a single numerical variable \n",
    "\n",
    "* Heatmap(heatmap) :-\n",
    "=> use : Represent the correlation matrix of variable in a Dataset "
   ]
  },
  {
   "cell_type": "markdown",
   "id": "107bcd6b-1ac5-4b5a-bbe3-d6a0254ce245",
   "metadata": {},
   "source": [
    "Que 2: Load the \"fmri\" dataset using the load_dataset function of seaborn. Plot a line plot using x =\n",
    "\"timepoint\" and y = \"signal\" for different events and regions."
   ]
  },
  {
   "cell_type": "code",
   "execution_count": 6,
   "id": "3fd6d1cf-a274-410f-9461-8f46e5f89b96",
   "metadata": {},
   "outputs": [
    {
     "ename": "ValueError",
     "evalue": "'fmri' is not one of the example datasets.",
     "output_type": "error",
     "traceback": [
      "\u001b[0;31m---------------------------------------------------------------------------\u001b[0m",
      "\u001b[0;31mValueError\u001b[0m                                Traceback (most recent call last)",
      "Cell \u001b[0;32mIn[6], line 5\u001b[0m\n\u001b[1;32m      2\u001b[0m \u001b[38;5;28;01mimport\u001b[39;00m \u001b[38;5;21;01mmatplotlib\u001b[39;00m\u001b[38;5;21;01m.\u001b[39;00m\u001b[38;5;21;01mpyplot\u001b[39;00m \u001b[38;5;28;01mas\u001b[39;00m \u001b[38;5;21;01mplt\u001b[39;00m\n\u001b[1;32m      4\u001b[0m \u001b[38;5;66;03m# Load the \"fmri\" dataset \u001b[39;00m\n\u001b[0;32m----> 5\u001b[0m fmri_data \u001b[38;5;241m=\u001b[39m \u001b[43msns\u001b[49m\u001b[38;5;241;43m.\u001b[39;49m\u001b[43mload_dataset\u001b[49m\u001b[43m(\u001b[49m\u001b[38;5;124;43m\"\u001b[39;49m\u001b[38;5;124;43mfmri\u001b[39;49m\u001b[38;5;124;43m\"\u001b[39;49m\u001b[43m)\u001b[49m\n\u001b[1;32m      7\u001b[0m \u001b[38;5;66;03m# Plot line plot using line plot \u001b[39;00m\n\u001b[1;32m      8\u001b[0m sns\u001b[38;5;241m.\u001b[39mset(style \u001b[38;5;241m=\u001b[39m \u001b[38;5;124m\"\u001b[39m\u001b[38;5;124mwhitegrid\u001b[39m\u001b[38;5;124m\"\u001b[39m)\n",
      "File \u001b[0;32m/opt/conda/lib/python3.10/site-packages/seaborn/utils.py:583\u001b[0m, in \u001b[0;36mload_dataset\u001b[0;34m(name, cache, data_home, **kws)\u001b[0m\n\u001b[1;32m    581\u001b[0m \u001b[38;5;28;01mif\u001b[39;00m \u001b[38;5;129;01mnot\u001b[39;00m os\u001b[38;5;241m.\u001b[39mpath\u001b[38;5;241m.\u001b[39mexists(cache_path):\n\u001b[1;32m    582\u001b[0m     \u001b[38;5;28;01mif\u001b[39;00m name \u001b[38;5;129;01mnot\u001b[39;00m \u001b[38;5;129;01min\u001b[39;00m get_dataset_names():\n\u001b[0;32m--> 583\u001b[0m         \u001b[38;5;28;01mraise\u001b[39;00m \u001b[38;5;167;01mValueError\u001b[39;00m(\u001b[38;5;124mf\u001b[39m\u001b[38;5;124m\"\u001b[39m\u001b[38;5;124m'\u001b[39m\u001b[38;5;132;01m{\u001b[39;00mname\u001b[38;5;132;01m}\u001b[39;00m\u001b[38;5;124m'\u001b[39m\u001b[38;5;124m is not one of the example datasets.\u001b[39m\u001b[38;5;124m\"\u001b[39m)\n\u001b[1;32m    584\u001b[0m     urlretrieve(url, cache_path)\n\u001b[1;32m    585\u001b[0m full_path \u001b[38;5;241m=\u001b[39m cache_path\n",
      "\u001b[0;31mValueError\u001b[0m: 'fmri' is not one of the example datasets."
     ]
    }
   ],
   "source": [
    "import seaborn as sns \n",
    "import matplotlib.pyplot as plt\n",
    "\n",
    "# Load the \"fmri\" dataset \n",
    "fmri_data = sns.load_dataset(\"fmri\")\n",
    "\n",
    "# Plot line plot using line plot \n",
    "sns.set(style = \"whitegrid\")\n",
    "plt.figure(figsize=(10,6))\n",
    "\n",
    "# Create the line plot \n",
    "sns.lineplot(x=\"timepoint\" , y=\"signal\" , hue=\"event\" ,style=\"region\" , data =fmri_data)\n",
    "\n",
    "# Set te plot label and title\n",
    "plt.xlabel(\"timepoint\")\n",
    "plt.ylabel(\"signal\")\n",
    "plt.title(\"FMRI signal over time Difference Events & Region\")\n",
    "\n",
    "# Show the plot \n",
    "plt.show()"
   ]
  },
  {
   "cell_type": "markdown",
   "id": "300a14a2-0894-4880-b32c-15c7354e529c",
   "metadata": {},
   "source": [
    "Sir i execute the code but they are not Responding . i can't understand why they give the error -_-"
   ]
  },
  {
   "cell_type": "markdown",
   "id": "7e4f5975-8a9f-4067-bfe2-d1eed28234f4",
   "metadata": {},
   "source": [
    "Que 3: Load the \"titanic\" dataset using the load_dataset function of seaborn. Plot two box plots using x =\n",
    "'pclass', y = 'age' and y = 'fare'.\n",
    "\n",
    "Note:  pclass, age, and fare are columns in the titanic dataset."
   ]
  },
  {
   "cell_type": "code",
   "execution_count": 15,
   "id": "03010946-6849-43a3-aa8f-942799a6267f",
   "metadata": {},
   "outputs": [
    {
     "ename": "ValueError",
     "evalue": "'titanic' is not one of the example datasets.",
     "output_type": "error",
     "traceback": [
      "\u001b[0;31m---------------------------------------------------------------------------\u001b[0m",
      "\u001b[0;31mValueError\u001b[0m                                Traceback (most recent call last)",
      "Cell \u001b[0;32mIn[15], line 2\u001b[0m\n\u001b[1;32m      1\u001b[0m \u001b[38;5;66;03m# import the Titanic data set\u001b[39;00m\n\u001b[0;32m----> 2\u001b[0m titanic_data \u001b[38;5;241m=\u001b[39m \u001b[43msns\u001b[49m\u001b[38;5;241;43m.\u001b[39;49m\u001b[43mload_dataset\u001b[49m\u001b[43m(\u001b[49m\u001b[38;5;124;43m\"\u001b[39;49m\u001b[38;5;124;43mtitanic\u001b[39;49m\u001b[38;5;124;43m\"\u001b[39;49m\u001b[43m)\u001b[49m\n\u001b[1;32m      4\u001b[0m \u001b[38;5;66;03m# set up the matplotlib figure with two subplots\u001b[39;00m\n\u001b[1;32m      5\u001b[0m fig , axes \u001b[38;5;241m=\u001b[39mplt\u001b[38;5;241m.\u001b[39msubplot(nrows\u001b[38;5;241m=\u001b[39m\u001b[38;5;241m1\u001b[39m ,ncols\u001b[38;5;241m=\u001b[39m\u001b[38;5;241m2\u001b[39m , figsize\u001b[38;5;241m=\u001b[39m(\u001b[38;5;241m10\u001b[39m,\u001b[38;5;241m6\u001b[39m))\n",
      "File \u001b[0;32m/opt/conda/lib/python3.10/site-packages/seaborn/utils.py:583\u001b[0m, in \u001b[0;36mload_dataset\u001b[0;34m(name, cache, data_home, **kws)\u001b[0m\n\u001b[1;32m    581\u001b[0m \u001b[38;5;28;01mif\u001b[39;00m \u001b[38;5;129;01mnot\u001b[39;00m os\u001b[38;5;241m.\u001b[39mpath\u001b[38;5;241m.\u001b[39mexists(cache_path):\n\u001b[1;32m    582\u001b[0m     \u001b[38;5;28;01mif\u001b[39;00m name \u001b[38;5;129;01mnot\u001b[39;00m \u001b[38;5;129;01min\u001b[39;00m get_dataset_names():\n\u001b[0;32m--> 583\u001b[0m         \u001b[38;5;28;01mraise\u001b[39;00m \u001b[38;5;167;01mValueError\u001b[39;00m(\u001b[38;5;124mf\u001b[39m\u001b[38;5;124m\"\u001b[39m\u001b[38;5;124m'\u001b[39m\u001b[38;5;132;01m{\u001b[39;00mname\u001b[38;5;132;01m}\u001b[39;00m\u001b[38;5;124m'\u001b[39m\u001b[38;5;124m is not one of the example datasets.\u001b[39m\u001b[38;5;124m\"\u001b[39m)\n\u001b[1;32m    584\u001b[0m     urlretrieve(url, cache_path)\n\u001b[1;32m    585\u001b[0m full_path \u001b[38;5;241m=\u001b[39m cache_path\n",
      "\u001b[0;31mValueError\u001b[0m: 'titanic' is not one of the example datasets."
     ]
    }
   ],
   "source": [
    "# import the Titanic data set\n",
    "titanic_data = sns.load_dataset(\"titanic\")\n",
    "\n",
    "# set up the matplotlib figure with two subplots\n",
    "fig , axes =plt.subplot(nrows=1 ,ncols=2 , figsize=(10,6))\n",
    "\n",
    "# Create the first box plot for the \"Age\"\n",
    "sns.boxplot(x='pclass' , y='age' , data=titanic_data,ax=axes[0])\n",
    "axes[0].set_title(\"Box plot of age by Pclass\")\n",
    "\n",
    "# Create the second Box plot for the \"Fare\"\n",
    "sns.boxplot(x=\"pclass\" , y=\"fare\" , data=titanic_data , ax=axes[1])\n",
    "axes[1].set_title(\"Box plot of fare by Pclass\")\n",
    "\n",
    "# Adjust the layout\n",
    "plt.tight_layout\n",
    "\n",
    "# show the plot\n",
    "plt.show()"
   ]
  },
  {
   "cell_type": "markdown",
   "id": "944f0124-017d-46e2-a02b-48d49f461585",
   "metadata": {},
   "source": [
    "Sir i can't understand why they give error i also import the all library."
   ]
  },
  {
   "cell_type": "markdown",
   "id": "2cbec77c-5883-4153-bd19-4b2cad7c72ae",
   "metadata": {},
   "source": [
    "Que 4: Use the \"diamonds\" dataset from seaborn to plot a histogram for the 'price' column. Use the hue\n",
    "parameter for the 'cut' column of the diamonds dataset. "
   ]
  },
  {
   "cell_type": "code",
   "execution_count": 17,
   "id": "20ec4763-1d62-4d3e-b2af-dc39bd38cf88",
   "metadata": {},
   "outputs": [
    {
     "ename": "ValueError",
     "evalue": "'diamonds' is not one of the example datasets.",
     "output_type": "error",
     "traceback": [
      "\u001b[0;31m---------------------------------------------------------------------------\u001b[0m",
      "\u001b[0;31mValueError\u001b[0m                                Traceback (most recent call last)",
      "Cell \u001b[0;32mIn[17], line 2\u001b[0m\n\u001b[1;32m      1\u001b[0m \u001b[38;5;66;03m# Load the Diamonds data set from the seaborn\u001b[39;00m\n\u001b[0;32m----> 2\u001b[0m diamonds_data \u001b[38;5;241m=\u001b[39m \u001b[43msns\u001b[49m\u001b[38;5;241;43m.\u001b[39;49m\u001b[43mload_dataset\u001b[49m\u001b[43m(\u001b[49m\u001b[38;5;124;43m\"\u001b[39;49m\u001b[38;5;124;43mdiamonds\u001b[39;49m\u001b[38;5;124;43m\"\u001b[39;49m\u001b[43m)\u001b[49m\n\u001b[1;32m      4\u001b[0m \u001b[38;5;66;03m# Set the style\u001b[39;00m\n\u001b[1;32m      5\u001b[0m sns\u001b[38;5;241m.\u001b[39mset(style\u001b[38;5;241m=\u001b[39m\u001b[38;5;124m\"\u001b[39m\u001b[38;5;124mwhitegrid\u001b[39m\u001b[38;5;124m\"\u001b[39m)\n",
      "File \u001b[0;32m/opt/conda/lib/python3.10/site-packages/seaborn/utils.py:583\u001b[0m, in \u001b[0;36mload_dataset\u001b[0;34m(name, cache, data_home, **kws)\u001b[0m\n\u001b[1;32m    581\u001b[0m \u001b[38;5;28;01mif\u001b[39;00m \u001b[38;5;129;01mnot\u001b[39;00m os\u001b[38;5;241m.\u001b[39mpath\u001b[38;5;241m.\u001b[39mexists(cache_path):\n\u001b[1;32m    582\u001b[0m     \u001b[38;5;28;01mif\u001b[39;00m name \u001b[38;5;129;01mnot\u001b[39;00m \u001b[38;5;129;01min\u001b[39;00m get_dataset_names():\n\u001b[0;32m--> 583\u001b[0m         \u001b[38;5;28;01mraise\u001b[39;00m \u001b[38;5;167;01mValueError\u001b[39;00m(\u001b[38;5;124mf\u001b[39m\u001b[38;5;124m\"\u001b[39m\u001b[38;5;124m'\u001b[39m\u001b[38;5;132;01m{\u001b[39;00mname\u001b[38;5;132;01m}\u001b[39;00m\u001b[38;5;124m'\u001b[39m\u001b[38;5;124m is not one of the example datasets.\u001b[39m\u001b[38;5;124m\"\u001b[39m)\n\u001b[1;32m    584\u001b[0m     urlretrieve(url, cache_path)\n\u001b[1;32m    585\u001b[0m full_path \u001b[38;5;241m=\u001b[39m cache_path\n",
      "\u001b[0;31mValueError\u001b[0m: 'diamonds' is not one of the example datasets."
     ]
    }
   ],
   "source": [
    "# Load the Diamonds data set from the seaborn\n",
    "diamonds_data = sns.load_dataset(\"diamonds\")\n",
    "\n",
    "# Set the style\n",
    "sns.set(style=\"whitegrid\")\n",
    "\n",
    "# Create the histogram with hue for the 'cut' column\n",
    "plt.figure(figsize=(10,6))\n",
    "sns.histplot(data=diamonds_data , x=\"price\" , hue=\"cut\" , kde=True ,bins=30 ,palette=\"viridis\")\n",
    "\n",
    "# Set plot labels and title\n",
    "plt.xlabel(\"Price\")\n",
    "plt.ylabel(\"Frequency\")\n",
    "plt.title(\"Histrogram for the Diamonad price\")\n",
    "\n",
    "# Show the plot\n",
    "plt.show()"
   ]
  },
  {
   "cell_type": "markdown",
   "id": "b9d04ad9-4b93-4f56-8f2d-686eb8a096fb",
   "metadata": {},
   "source": [
    "Que 5: Use the \"iris\" dataset from seaborn to plot a pair plot. Use the hue parameter for the \"species\" column\n",
    "of the iris dataset."
   ]
  },
  {
   "cell_type": "code",
   "execution_count": 18,
   "id": "6d5ebecf-5d11-44b0-8325-b04d0363f09f",
   "metadata": {},
   "outputs": [
    {
     "ename": "ValueError",
     "evalue": "'iris' is not one of the example datasets.",
     "output_type": "error",
     "traceback": [
      "\u001b[0;31m---------------------------------------------------------------------------\u001b[0m",
      "\u001b[0;31mValueError\u001b[0m                                Traceback (most recent call last)",
      "Cell \u001b[0;32mIn[18], line 2\u001b[0m\n\u001b[1;32m      1\u001b[0m \u001b[38;5;66;03m# Load the iris data set\u001b[39;00m\n\u001b[0;32m----> 2\u001b[0m iris_data\u001b[38;5;241m=\u001b[39m \u001b[43msns\u001b[49m\u001b[38;5;241;43m.\u001b[39;49m\u001b[43mload_dataset\u001b[49m\u001b[43m(\u001b[49m\u001b[38;5;124;43m\"\u001b[39;49m\u001b[38;5;124;43miris\u001b[39;49m\u001b[38;5;124;43m\"\u001b[39;49m\u001b[43m)\u001b[49m\n\u001b[1;32m      4\u001b[0m \u001b[38;5;66;03m# Create the pair plot with hue for the 'species' column\u001b[39;00m\n\u001b[1;32m      5\u001b[0m sns\u001b[38;5;241m.\u001b[39mset(style\u001b[38;5;241m=\u001b[39m\u001b[38;5;124m\"\u001b[39m\u001b[38;5;124mticks\u001b[39m\u001b[38;5;124m\"\u001b[39m)\n",
      "File \u001b[0;32m/opt/conda/lib/python3.10/site-packages/seaborn/utils.py:583\u001b[0m, in \u001b[0;36mload_dataset\u001b[0;34m(name, cache, data_home, **kws)\u001b[0m\n\u001b[1;32m    581\u001b[0m \u001b[38;5;28;01mif\u001b[39;00m \u001b[38;5;129;01mnot\u001b[39;00m os\u001b[38;5;241m.\u001b[39mpath\u001b[38;5;241m.\u001b[39mexists(cache_path):\n\u001b[1;32m    582\u001b[0m     \u001b[38;5;28;01mif\u001b[39;00m name \u001b[38;5;129;01mnot\u001b[39;00m \u001b[38;5;129;01min\u001b[39;00m get_dataset_names():\n\u001b[0;32m--> 583\u001b[0m         \u001b[38;5;28;01mraise\u001b[39;00m \u001b[38;5;167;01mValueError\u001b[39;00m(\u001b[38;5;124mf\u001b[39m\u001b[38;5;124m\"\u001b[39m\u001b[38;5;124m'\u001b[39m\u001b[38;5;132;01m{\u001b[39;00mname\u001b[38;5;132;01m}\u001b[39;00m\u001b[38;5;124m'\u001b[39m\u001b[38;5;124m is not one of the example datasets.\u001b[39m\u001b[38;5;124m\"\u001b[39m)\n\u001b[1;32m    584\u001b[0m     urlretrieve(url, cache_path)\n\u001b[1;32m    585\u001b[0m full_path \u001b[38;5;241m=\u001b[39m cache_path\n",
      "\u001b[0;31mValueError\u001b[0m: 'iris' is not one of the example datasets."
     ]
    }
   ],
   "source": [
    "# Load the iris data set\n",
    "iris_data= sns.load_dataset(\"iris\")\n",
    "\n",
    "# Create the pair plot with hue for the 'species' column\n",
    "sns.set(style=\"ticks\")\n",
    "sns.pairplot(iris_data , hue=\"speices\" ,markers=[\"o\" ,\"s\" ,\"D\"])\n",
    "\n",
    "# Set plot title \n",
    "plt.title(\"pair plot of iris Dataset\")\n",
    "\n",
    "# show the plot\n",
    "plt.show()"
   ]
  },
  {
   "cell_type": "markdown",
   "id": "b25700e1-2881-42c3-bf24-0408fd552c5c",
   "metadata": {},
   "source": [
    "Que 6: Use the \"flights\" dataset from seaborn to plot a heatmap"
   ]
  },
  {
   "cell_type": "code",
   "execution_count": null,
   "id": "38dd7dcf-6697-4cf5-9313-0adc76bf0668",
   "metadata": {},
   "outputs": [],
   "source": []
  }
 ],
 "metadata": {
  "kernelspec": {
   "display_name": "Python 3 (ipykernel)",
   "language": "python",
   "name": "python3"
  },
  "language_info": {
   "codemirror_mode": {
    "name": "ipython",
    "version": 3
   },
   "file_extension": ".py",
   "mimetype": "text/x-python",
   "name": "python",
   "nbconvert_exporter": "python",
   "pygments_lexer": "ipython3",
   "version": "3.10.8"
  }
 },
 "nbformat": 4,
 "nbformat_minor": 5
}
